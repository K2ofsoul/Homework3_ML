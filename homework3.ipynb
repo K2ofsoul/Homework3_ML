{
 "cells": [
  {
   "cell_type": "code",
   "execution_count": null,
   "id": "900c0ced",
   "metadata": {
    "vscode": {
     "languageId": "plaintext"
    }
   },
   "outputs": [],
   "source": [
    "import os"
   ]
  }
 ],
 "metadata": {
  "language_info": {
   "name": "python"
  }
 },
 "nbformat": 4,
 "nbformat_minor": 5
}
